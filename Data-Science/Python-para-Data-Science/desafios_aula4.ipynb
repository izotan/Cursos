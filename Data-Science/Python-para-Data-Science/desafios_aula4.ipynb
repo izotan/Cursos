{
  "nbformat": 4,
  "nbformat_minor": 0,
  "metadata": {
    "colab": {
      "provenance": []
    },
    "kernelspec": {
      "name": "python3",
      "display_name": "Python 3"
    },
    "language_info": {
      "name": "python"
    }
  },
  "cells": [
    {
      "cell_type": "markdown",
      "source": [
        "# <head>Aquecimento\n"
      ],
      "metadata": {
        "id": "7T8DXLoGaRES"
      }
    },
    {
      "cell_type": "markdown",
      "source": [
        "\n",
        "1. Faça um programa que solicite à pessoa usuária digitar dois números float e calcular a divisão entre esses números. O código deve conter um tratamento de erro, indicando o tipo de erro que foi gerado caso a divisão não seja possível de realizar.\n",
        "\n",
        "  Teste o programa com o segundo valor numérico do input igual a 0. Também teste utilizando caracteres textuais no input para checar os tipos de erro que ocorrem."
      ],
      "metadata": {
        "id": "Soh-Bb1za4fG"
      }
    },
    {
      "cell_type": "code",
      "source": [
        "try:\n",
        "  n1 = float(input(\"Digite um número do tipo float: \"))\n",
        "  n2 = float(input(\"Digite novamente um número do tipo float: \"))\n",
        "  resultado = n1 / n2\n",
        "except Exception as e:\n",
        "  print(type(e), f\"Erro: {e}\")\n",
        "else:\n",
        "  print(f\"O cálculo da divisão é: {resultado}\")"
      ],
      "metadata": {
        "colab": {
          "base_uri": "https://localhost:8080/"
        },
        "id": "DTDRiu5naxNV",
        "outputId": "baca045c-22dc-4306-d1e4-74de1efe786c"
      },
      "execution_count": null,
      "outputs": [
        {
          "output_type": "stream",
          "name": "stdout",
          "text": [
            "Digite um número do tipo float: 2.5\n",
            "Digite novamente um número do tipo float: 3.6\n",
            "O cálculo da divisão é: 0.6944444444444444\n"
          ]
        }
      ]
    },
    {
      "cell_type": "code",
      "source": [
        "try:\n",
        "  n1 = float(input(\"Digite um número do tipo float: \"))\n",
        "  n2 = float(input(\"Digite novamente um número do tipo float: \"))\n",
        "  resultado = n1 / n2\n",
        "except Exception as e:\n",
        "  print(type(e), f\"Erro: {e}\")\n",
        "else:\n",
        "  print(f\"O cálculo da divisão é: {resultado}\")"
      ],
      "metadata": {
        "colab": {
          "base_uri": "https://localhost:8080/"
        },
        "id": "oXJX2O7rdq9T",
        "outputId": "2a9e8a90-3a8f-4676-c07f-9fe25256f995"
      },
      "execution_count": null,
      "outputs": [
        {
          "output_type": "stream",
          "name": "stdout",
          "text": [
            "Digite um número do tipo float: 2.5\n",
            "Digite novamente um número do tipo float: 3.6\n",
            "O cálculo da divisão é: 0.6944444444444444\n"
          ]
        }
      ]
    },
    {
      "cell_type": "markdown",
      "source": [
        "2. Faça um programa que solicite à pessoa usuária digitar um texto que será uma chave a ser pesquisada no seguinte dicionário: idades = {'Júlia': 16, 'Carol': 23, 'Alberto': 19, 'Roberta': 17}, armazenando o resultado do valor em uma variável. O código deve conter um tratamento de erro KeyError, imprimindo a informação 'Nome não encontrado', caso ocorra o erro; e imprimir o valor caso não ocorra nenhum.\n",
        "\n",
        "  Teste o programa com um nome presente em uma das chaves do dicionário e com um que não esteja no dicionário para verificar a mensagem de erro."
      ],
      "metadata": {
        "id": "qiWYHw4Ea8QE"
      }
    },
    {
      "cell_type": "code",
      "source": [
        "idades = {'Júlia': 16, 'Carol': 23, 'Alberto': 19, 'Roberta': 17}\n",
        "\n",
        "try:\n",
        "  pesquisa = input(\"Digite o nome: \")\n",
        "\n",
        "except KeyError:\n",
        "  print(\"Nome não encontrado\")\n",
        "else:\n",
        "  print(idades[pesquisa])"
      ],
      "metadata": {
        "colab": {
          "base_uri": "https://localhost:8080/",
          "height": 233
        },
        "id": "fswupz7Za8rE",
        "outputId": "afa7e3ce-5622-4466-b6de-9c047025f69f"
      },
      "execution_count": null,
      "outputs": [
        {
          "name": "stdout",
          "output_type": "stream",
          "text": [
            "Digite o nome: Jose\n"
          ]
        },
        {
          "output_type": "error",
          "ename": "KeyError",
          "evalue": "ignored",
          "traceback": [
            "\u001b[0;31m---------------------------------------------------------------------------\u001b[0m",
            "\u001b[0;31mKeyError\u001b[0m                                  Traceback (most recent call last)",
            "\u001b[0;32m<ipython-input-4-65f6eb53bf7b>\u001b[0m in \u001b[0;36m<cell line: 3>\u001b[0;34m()\u001b[0m\n\u001b[1;32m      7\u001b[0m   \u001b[0mprint\u001b[0m\u001b[0;34m(\u001b[0m\u001b[0;34m\"Nome não encontrado\"\u001b[0m\u001b[0;34m)\u001b[0m\u001b[0;34m\u001b[0m\u001b[0;34m\u001b[0m\u001b[0m\n\u001b[1;32m      8\u001b[0m \u001b[0;32melse\u001b[0m\u001b[0;34m:\u001b[0m\u001b[0;34m\u001b[0m\u001b[0;34m\u001b[0m\u001b[0m\n\u001b[0;32m----> 9\u001b[0;31m   \u001b[0mprint\u001b[0m\u001b[0;34m(\u001b[0m\u001b[0midades\u001b[0m\u001b[0;34m[\u001b[0m\u001b[0mpesquisa\u001b[0m\u001b[0;34m]\u001b[0m\u001b[0;34m)\u001b[0m\u001b[0;34m\u001b[0m\u001b[0;34m\u001b[0m\u001b[0m\n\u001b[0m",
            "\u001b[0;31mKeyError\u001b[0m: 'Jose'"
          ]
        }
      ]
    },
    {
      "cell_type": "code",
      "source": [
        "idades = {'Júlia': 16, 'Carol': 23, 'Alberto': 19, 'Roberta': 17}\n",
        "\n",
        "try:\n",
        "  pesquisa = input(\"Digite o nome: \")\n",
        "  resultado = idades[pesquisa]\n",
        "except KeyError:\n",
        "  print(\"Nome não encontrado\")\n",
        "else:\n",
        "  print(resultado)"
      ],
      "metadata": {
        "colab": {
          "base_uri": "https://localhost:8080/"
        },
        "id": "b4WQeV-Jew6I",
        "outputId": "40946089-3d64-4ce2-b0d7-14e461738b62"
      },
      "execution_count": null,
      "outputs": [
        {
          "output_type": "stream",
          "name": "stdout",
          "text": [
            "Digite o nome: Jose\n",
            "Nome não encontrado\n"
          ]
        }
      ]
    },
    {
      "cell_type": "markdown",
      "source": [
        "3. Crie uma função que recebe uma lista como parâmetro e converta todos os valores da lista para float. A função deve conter um tratamento de erro indicando o tipo de erro gerado e retornar a lista caso não tenha ocorrido nenhum erro. Por fim, deve ter a cláusula finally para imprimir o texto: 'Fim da execução da função'."
      ],
      "metadata": {
        "id": "z1L4p_mta_4l"
      }
    },
    {
      "cell_type": "code",
      "source": [
        "def real(lista):\n",
        "  try:\n",
        "     lista = [float(i) for i in lista]\n",
        "  except Exception as e:\n",
        "    print(type(e), f\"Erro: {e}\")\n",
        "  else:\n",
        "    print(lista)\n",
        "  finally:\n",
        "    print('Fim da execução da função')"
      ],
      "metadata": {
        "id": "d3PT5gWza_4l"
      },
      "execution_count": null,
      "outputs": []
    },
    {
      "cell_type": "code",
      "source": [
        "vetor = [[1,3,'a',5],[2,5,60],[1,2.5,879]]\n",
        "for i in vetor:\n",
        "  real(i)"
      ],
      "metadata": {
        "colab": {
          "base_uri": "https://localhost:8080/"
        },
        "id": "tX3g8HoFhXvn",
        "outputId": "3a05875d-d90f-486c-be69-d30f1449b5af"
      },
      "execution_count": null,
      "outputs": [
        {
          "output_type": "stream",
          "name": "stdout",
          "text": [
            "<class 'ValueError'> Erro: could not convert string to float: 'a'\n",
            "Fim da execução da função\n",
            "[2.0, 5.0, 60.0]\n",
            "Fim da execução da função\n",
            "[1.0, 2.5, 879.0]\n",
            "Fim da execução da função\n"
          ]
        }
      ]
    },
    {
      "cell_type": "markdown",
      "source": [
        "4. Crie uma função que recebe duas listas como parâmetros e agrupe os elementos um a um das listas, formando uma lista de tuplas de 3 elementos, no qual o primeiro e segundo elemento da tupla são os valores na posição i das listas e o terceiro elemento é a soma dos valores na posição i das listas.\n",
        "\n",
        "  A função deve conter um tratamento de erro indicando o tipo de erro gerado e retornar como resultado a lista de tuplas. Caso as listas enviadas como parâmetro tenham tamanhos diferentes, a função deve retornar um IndexError com a frase: 'A quantidade de elementos em cada lista é diferente.' Dados para testar a função:\n",
        "\n",
        "      Valores sem erro:\n",
        "\n",
        "          lista1 = [4,6,7,9,10]\n",
        "          lista2 = [-4,6,8,7,9]\n",
        "\n",
        "      Listas com tamanhos diferentes:\n",
        "\n",
        "          lista1 = [4,6,7,9,10,4]\n",
        "          lista2 = [-4,6,8,7,9]\n",
        "\n",
        "      Listas com valores incoerentes:\n",
        "\n",
        "          lista1 = [4,6,7,9,'A']\n",
        "          lista2 = [-4,'E',8,7,9]"
      ],
      "metadata": {
        "id": "bgw74CaqbECt"
      }
    },
    {
      "cell_type": "code",
      "source": [
        "# prompt:       Crie uma função que recebe duas listas como parâmetros e agrupe os elementos um a um das listas, formando uma lista de tuplas de 3 elementos, no qual o primeiro e segundo elemento da tupla são os valores na posição i das listas e o terceiro elemento é a soma dos valores na posição i das listas.      A função deve conter um tratamento de erro indicando o tipo de erro gerado e retornar como resultado a lista de tuplas. Caso as listas enviadas como parâmetro tenham tamanhos diferentes, a função deve retornar um IndexError com a frase: 'A quantidade de elementos em cada lista é diferente.' Dados para testar a função:      Valores sem erro:         lista1 = [4,6,7,9,10]        lista2 = [-4,6,8,7,9]      Listas com tamanhos diferentes:         lista1 = [4,6,7,9,10,4]        lista2 = [-4,6,8,7,9]      Listas com valores incoerentes:         lista1 = [4,6,7,9,'A']        lista2 = [-4,'E',8,7,9]\n",
        "\n",
        "def lista_tuplas(lista1, lista2):\n",
        "  try:\n",
        "    if len(lista1) != len(lista2):\n",
        "      raise IndexError('A quantidade de elementos em cada lista é diferente.')\n",
        "    else:\n",
        "      lista_tuplas = []\n",
        "      for i in range(len(lista1)):\n",
        "        tupla = (lista1[i], lista2[i], lista1[i] + lista2[i])\n",
        "        lista_tuplas.append(tupla)\n",
        "      return lista_tuplas\n",
        "  except Exception as e:\n",
        "    print(type(e), f\"Erro: {e}\")\n"
      ],
      "metadata": {
        "id": "YnFpJMMERelj"
      },
      "execution_count": null,
      "outputs": []
    },
    {
      "cell_type": "code",
      "source": [
        "#Valores sem erro:\n",
        "lista1 = [4,6,7,9,10]\n",
        "lista2 = [-4,6,8,7,9]\n",
        "\n",
        "lista_tuplas(lista1,lista2)"
      ],
      "metadata": {
        "id": "uZrzXVQobECt",
        "colab": {
          "base_uri": "https://localhost:8080/"
        },
        "outputId": "63961929-75b5-4be2-867d-f2dbd31c999d"
      },
      "execution_count": null,
      "outputs": [
        {
          "output_type": "execute_result",
          "data": {
            "text/plain": [
              "[(4, -4, 0), (6, 6, 12), (7, 8, 15), (9, 7, 16), (10, 9, 19)]"
            ]
          },
          "metadata": {},
          "execution_count": 4
        }
      ]
    },
    {
      "cell_type": "code",
      "source": [
        "#Listas com tamanhos diferentes:\n",
        "lista1 = [4,6,7,9,10,4]\n",
        "lista2 = [-4,6,8,7,9]\n",
        "\n",
        "lista_tuplas(lista1,lista2)"
      ],
      "metadata": {
        "colab": {
          "base_uri": "https://localhost:8080/"
        },
        "id": "1IFZPlxdR9RQ",
        "outputId": "72e9e09e-c8d7-43bc-de2b-fc044ffdc0ba"
      },
      "execution_count": null,
      "outputs": [
        {
          "output_type": "stream",
          "name": "stdout",
          "text": [
            "<class 'IndexError'> Erro: A quantidade de elementos em cada lista é diferente.\n"
          ]
        }
      ]
    },
    {
      "cell_type": "code",
      "source": [
        "#Listas com valores incoerentes:\n",
        "\n",
        "lista1 = [4,6,7,9,'A']\n",
        "lista2 = [-4,'E',8,7,9]\n",
        "\n",
        "lista_tuplas(lista1,lista2)"
      ],
      "metadata": {
        "colab": {
          "base_uri": "https://localhost:8080/"
        },
        "id": "JtT7X8UJSFfO",
        "outputId": "a7dd0be0-f252-4ac1-b2a0-7ff65105706c"
      },
      "execution_count": null,
      "outputs": [
        {
          "output_type": "stream",
          "name": "stdout",
          "text": [
            "<class 'TypeError'> Erro: unsupported operand type(s) for +: 'int' and 'str'\n"
          ]
        }
      ]
    },
    {
      "cell_type": "markdown",
      "source": [
        "# <head>Aplicando a projetos\n"
      ],
      "metadata": {
        "id": "zXfgQ4jObOPC"
      }
    },
    {
      "cell_type": "markdown",
      "source": [
        "5. Como desafio, você recebeu a tarefa de desenvolver um código que contabiliza as pontuações de estudantes de uma instituição de ensino de acordo com suas respostas num teste. Este código deve ser testado para um exemplo de 3 estudantes com uma lista de listas em que cada lista possui as respostas de 5 questões objetivas de cada estudante. Cada questão vale um ponto e as alternativas possíveis são A, B, C ou D.\n",
        "\n",
        "Caso alguma alternativa em um dos testes não esteja entre as alternativas possíveis, você deve lançar um ValueError com a mensagem \"A alternativa [alternativa] não é uma opção de alternativa válida\". O cálculo das 3 notas só será realizado mediante as entradas com as alternativas A, B, C ou D em todos os testes. Se não for lançada a exceção, será exibida uma lista com as notas em cada teste.\n",
        "\n",
        "Os dados para o teste do código são:\n",
        "\n",
        "Gabarito da prova:\n",
        "\n",
        "    gabarito = ['D', 'A', 'B', 'C', 'A']\n",
        "\n",
        "Abaixo temos 2 listas de listas que você pode usar como teste\n",
        "\n",
        "Notas sem exceção:\n",
        "\n",
        "    testes_sem_ex = [['D', 'A', 'B', 'C', 'A'], ['C', 'A', 'A', 'C', 'A'], ['D', 'B', 'A', 'C', 'A']]\n",
        "\n",
        "Notas com exceção:\n",
        "\n",
        "    testes_com_ex = [['D', 'A', 'B', 'C', 'A'], ['C', 'A', 'A', 'E', 'A'], ['D', 'B', 'A', 'C', 'A']]\n",
        "\n",
        "    Dica: Para verificar se uma entrada da lista não está entre as alternativas possíveis, use a estrutura lista[i] not in ['A','B','C','D']. Por exemplo, 1 not in [2,3,4]... Saída: True.\n"
      ],
      "metadata": {
        "id": "C7Gu2_3WbX84"
      }
    },
    {
      "cell_type": "code",
      "source": [
        "# prompt:       Como desafio, você recebeu a tarefa de desenvolver um código que contabiliza as pontuações de estudantes de uma instituição de ensino de acordo com suas respostas num teste. Este código deve ser testado para um exemplo de 3 estudantes com uma lista de listas em que cada lista possui as respostas de 5 questões objetivas de cada estudante. Cada questão vale um ponto e as alternativas possíveis são A, B, C ou D.  Caso alguma alternativa em um dos testes não esteja entre as alternativas possíveis, você deve lançar um ValueError com a mensagem \"A alternativa [alternativa] não é uma opção de alternativa válida\". O cálculo das 3 notas só será realizado mediante as entradas com as alternativas A, B, C ou D em todos os testes. Se não for lançada a exceção, será exibida uma lista com as notas em cada teste.\n",
        "\n",
        "gabarito = ['D', 'A', 'B', 'C', 'A']\n",
        "testes_sem_ex = [['D', 'A', 'B', 'C', 'A'], ['C', 'A', 'A', 'C', 'A'], ['D', 'B', 'A', 'C', 'A']]\n",
        "testes_com_ex = [['D', 'A', 'B', 'C', 'A'], ['C', 'A', 'A', 'E', 'A'], ['D', 'B', 'A', 'C', 'A']]\n",
        "\n",
        "def pontuacao(testes, gabarito):\n",
        "  notas = []\n",
        "  for teste in testes:\n",
        "    soma = 0\n",
        "    for i in range(len(teste)):\n",
        "      if teste[i] not in ['A','B','C','D']:\n",
        "        raise ValueError('A alternativa {} não é uma opção de alternativa válida'.format(teste[i]))\n",
        "      else:\n",
        "        if teste[i] == gabarito[i]:\n",
        "          soma += 1\n",
        "    notas.append(soma)\n",
        "  return notas\n",
        "\n",
        "try:\n",
        "  notas_sem_ex = pontuacao(testes_sem_ex, gabarito)\n",
        "  print(notas_sem_ex)\n",
        "except ValueError as e:\n",
        "  print(e)\n",
        "\n",
        "try:\n",
        "  notas_com_ex = pontuacao(testes_com_ex, gabarito)\n",
        "  print(notas_com_ex)\n",
        "except ValueError as e:\n",
        "  print(e)\n"
      ],
      "metadata": {
        "colab": {
          "base_uri": "https://localhost:8080/"
        },
        "id": "pIrCMdgZXtDD",
        "outputId": "b9b002ae-0d05-48ee-ffaa-aaa8a31803ad"
      },
      "execution_count": null,
      "outputs": [
        {
          "output_type": "stream",
          "name": "stdout",
          "text": [
            "[5, 3, 3]\n",
            "A alternativa E não é uma opção de alternativa válida\n"
          ]
        }
      ]
    },
    {
      "cell_type": "markdown",
      "source": [
        "6. Você está trabalhando com processamento de linguagem natural (NLP) e, dessa vez, sua líder requisitou que você criasse um trecho de código que recebe uma lista com as palavras separadas de uma frase gerada pelo ChatGPT.\n",
        "\n",
        "Você precisa criar uma função que avalia cada palavra desse texto e verificar se o tratamento para retirar os símbolos de pontuação (',' '.', '!' e '?') foi realizado. Caso contrário, será lançada uma exceção do tipo ValueError apontando o 1º caso em que foi detectado o uso de uma pontuação por meio da frase \"O texto apresenta pontuações na palavra \"[palavra]\".\". Essa demanda é voltada para a análise do padrão de frases geradas pela inteligência artificial.\n",
        "\n",
        "    Dica: Para verificar se uma ou mais das pontuações estão presentes em cada palavra, utilize a palavra chave or na condição if. Por exemplo, 'a' in 'alura' or 'b' in 'alura'… Saída: True\n",
        "\n",
        "Os dados para o teste do código são:\n",
        "\n",
        "  Lista tratada:\n",
        "\n",
        "    lista_tratada = ['Python', 'é', 'uma', 'linguagem', 'de', 'programação', 'poderosa', 'versátil',\n",
        "                  'e', 'fácil', 'de', 'aprender', 'utilizada', 'em', 'diversos', 'campos', 'desde',\n",
        "                  'análise', 'de', 'dados', 'até', 'inteligência', 'artificial']\n",
        "\n",
        "  Lista não tratada:\n",
        "\n",
        "    lista_nao_tratada = ['Python', 'é', 'uma', 'linguagem', 'de', 'programação', 'poderosa,', 'versátil',\n",
        "                  'e', 'fácil,', 'de', 'aprender', 'utilizada', 'em', 'diversos', 'campos,', 'desde',\n",
        "                  'análise', 'de', 'dados', 'até', 'inteligência', 'artificial!']\n",
        "\n"
      ],
      "metadata": {
        "id": "dQK6GzeYbfMQ"
      }
    },
    {
      "cell_type": "code",
      "source": [
        "lista_tratada = ['Python', 'é', 'uma', 'linguagem', 'de', 'programação', 'poderosa', 'versátil',\n",
        "              'e', 'fácil', 'de', 'aprender', 'utilizada', 'em', 'diversos', 'campos', 'desde',\n",
        "              'análise', 'de', 'dados', 'até', 'inteligência', 'artificial']\n",
        "\n",
        "lista_nao_tratada = ['Python', 'é', 'uma', 'linguagem', 'de', 'programação', 'poderosa,', 'versátil',\n",
        "              'e', 'fácil,', 'de', 'aprender', 'utilizada', 'em', 'diversos', 'campos,', 'desde',\n",
        "              'análise', 'de', 'dados', 'até', 'inteligência', 'artificial!']\n",
        "\n",
        "pontuacao = [',', '.', '!', '?']\n",
        "\n",
        "def avalia_texto(lista_palavras):\n",
        "  for palavra in lista_palavras:\n",
        "    for i in range(len(palavra)):\n",
        "      if palavra[i] in pontuacao:\n",
        "        raise ValueError('O texto apresenta pontuações na palavra {''}.'.format(palavra))\n",
        "\n",
        "try:\n",
        "  lista = avalia_texto(lista_tratada)\n",
        "  print(\"Tratamento realizado corretamente.\")\n",
        "except ValueError as e:\n",
        "  print(e)\n",
        "\n",
        "try:\n",
        "  lista = avalia_texto(lista_nao_tratada)\n",
        "  print(\"Tratamento realizado corretamente.\")\n",
        "except ValueError as e:\n",
        "  print(e)"
      ],
      "metadata": {
        "id": "BveOM6aJbfMQ",
        "colab": {
          "base_uri": "https://localhost:8080/"
        },
        "outputId": "f3173ccc-06cd-4694-b951-6897e7808b40"
      },
      "execution_count": null,
      "outputs": [
        {
          "output_type": "stream",
          "name": "stdout",
          "text": [
            "Tratamento realizado corretamente.\n",
            "O texto apresenta pontuações na palavra poderosa,.\n"
          ]
        }
      ]
    },
    {
      "cell_type": "markdown",
      "source": [
        "7.Você foi contratado(a) como uma pessoa cientista de dados para auxiliar um laboratório que faz experimentos sobre o comportamento de uma cultura de fungos. O laboratório precisa avaliar constantemente a razão (divisão) entre os dados de pressão e temperatura do ambiente controlado recolhidos durante a experimentação para definir a melhor condição para os testes.\n",
        "\n",
        "Para cumprir com a demanda, você precisa criar uma função divide_colunas que recebe os dados das colunas de pressão e temperatura (que vem no formato de listas) e gerar uma nova coluna com o resultado da divisão. Os parâmetros da função são as duas listas e você deve tratar dentro dela ao menos 2 tipos de exceções:\n",
        "\n",
        "  - Verificar se as listas têm o mesmo tamanho (ValueError)\n",
        "  - Verificar se existe alguma divisão por zero (ZeroDivisionError)\n",
        "\n",
        "Para testar a função, vamos realizar a divisão entre duas listas de dados coletados no experimento, com os valores de pressão e temperatura do ambiente controlado.\n",
        "\n",
        "Como teste, use os seguintes dados:\n",
        "\n",
        "  - Dados sem exceção:\n",
        "\n",
        "        pressoes = [100, 120, 140, 160, 180]\n",
        "        temperaturas = [20, 25, 30, 35, 40]\n",
        "\n",
        "  - Dados com exceção:\n",
        "\n",
        "1) Exceção de ZeroDivisionError\n",
        "\n",
        "      pressoes = [60, 120, 140, 160, 180]\n",
        "      temperaturas = [0, 25, 30, 35, 40]\n",
        "\n",
        "2) Exceção de ValueError\n",
        "\n",
        "    pressoes = [100, 120, 140, 160]\n",
        "    temperaturas = [20, 25, 30, 35, 40]\n",
        "\n",
        "  Dica: Você pode usar zip() para parear os dados da lista_1 com a lista_2. Crie uma estrutura try-except que caso uma das exceções sejam lançadas, podemos ver o tipo de erro na saída.\n"
      ],
      "metadata": {
        "id": "VCQfqprObfuQ"
      }
    },
    {
      "cell_type": "code",
      "source": [
        "def divide_colunas(pressao, temperatura):\n",
        "  resultado = []\n",
        "  for dado in pressao:\n",
        "    for grau in temperatura:\n",
        "      if len(pressao) != len(temperatura):\n",
        "        raise ValueError(\"As listas precisam ter o mesmo tamanho\")\n",
        "      resultado.append(dado / grau)\n",
        "  return resultado\n",
        "\n",
        "# Dados sem exceção:\n",
        "try:\n",
        "  pressoes = [100, 120, 140, 160, 180]\n",
        "  temperaturas = [20, 25, 30, 35, 40]\n",
        "  print(divide_colunas(pressoes, temperaturas), \"\\n\" )\n",
        "except ValueError as e:\n",
        "  print(e)\n",
        "\n",
        "except ZeroDivisionError as e:\n",
        "  print(f\"{e}: A 2ª lista não pode possuir um valor igual a 0\")\n",
        "\n"
      ],
      "metadata": {
        "id": "IGmfDHUCbfuQ",
        "colab": {
          "base_uri": "https://localhost:8080/"
        },
        "outputId": "393062dc-f78d-4dac-a17b-706c60c54e46"
      },
      "execution_count": null,
      "outputs": [
        {
          "output_type": "stream",
          "name": "stdout",
          "text": [
            "[5.0, 4.0, 3.3333333333333335, 2.857142857142857, 2.5, 6.0, 4.8, 4.0, 3.4285714285714284, 3.0, 7.0, 5.6, 4.666666666666667, 4.0, 3.5, 8.0, 6.4, 5.333333333333333, 4.571428571428571, 4.0, 9.0, 7.2, 6.0, 5.142857142857143, 4.5] \n",
            "\n"
          ]
        }
      ]
    },
    {
      "cell_type": "code",
      "source": [
        "#Dados com exceção:\n",
        "  #1) Exceção de ZeroDivisionError\n",
        "try:\n",
        "  pressoes = [60, 120, 140, 160, 180]\n",
        "  temperaturas = [0, 25, 30, 35, 40]\n",
        "  print(divide_colunas(pressoes, temperaturas), \"\\n\")\n",
        "except ValueError as e:\n",
        "  print(e)\n",
        "\n",
        "except ZeroDivisionError as e:\n",
        "  print(f\"{e}: A 2ª lista não pode possuir um valor igual a 0\")\n",
        "\n"
      ],
      "metadata": {
        "colab": {
          "base_uri": "https://localhost:8080/"
        },
        "id": "bTZ4GAP0bLLl",
        "outputId": "5e57a055-40bf-4446-8e2f-0cf75d42dbc6"
      },
      "execution_count": null,
      "outputs": [
        {
          "output_type": "stream",
          "name": "stdout",
          "text": [
            "division by zero: A 2ª lista não pode possuir um valor igual a 0\n"
          ]
        }
      ]
    },
    {
      "cell_type": "code",
      "source": [
        "  #2) Exceção de ValueError\n",
        "try:\n",
        "    pressoes = [100, 120, 140, 160]\n",
        "    temperaturas = [20, 25, 30, 35, 40]\n",
        "    print(divide_colunas(pressoes, temperaturas), \"\\n\")\n",
        "except ValueError as e:\n",
        "    print(e)\n",
        "\n",
        "except ZeroDivisionError as e:\n",
        "    print(f\"{e}: A 2ª lista não pode possuir um valor igual a 0\")"
      ],
      "metadata": {
        "colab": {
          "base_uri": "https://localhost:8080/"
        },
        "id": "eivzepL7h9Sq",
        "outputId": "e37cf380-2851-4ac7-d6a4-58448bde7bbb"
      },
      "execution_count": null,
      "outputs": [
        {
          "output_type": "stream",
          "name": "stdout",
          "text": [
            "As listas precisam ter o mesmo tamanho\n"
          ]
        }
      ]
    },
    {
      "cell_type": "markdown",
      "source": [],
      "metadata": {
        "id": "1xv_5T6jh8-a"
      }
    }
  ]
}